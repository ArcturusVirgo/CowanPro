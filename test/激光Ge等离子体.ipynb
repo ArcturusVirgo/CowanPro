{
 "cells": [
  {
   "cell_type": "code",
   "execution_count": 31,
   "id": "initial_id",
   "metadata": {
    "collapsed": true,
    "ExecuteTime": {
     "end_time": "2023-08-12T07:45:10.908359800Z",
     "start_time": "2023-08-12T07:45:10.902359Z"
    }
   },
   "outputs": [],
   "source": [
    "from pprint import pprint\n",
    "from pathlib import Path\n",
    "\n",
    "import pandas as pd"
   ]
  },
  {
   "cell_type": "code",
   "execution_count": 32,
   "outputs": [],
   "source": [
    "folder_path = Path(r'E:\\研究生工作\\科研工作\\2023_08_08_Ge等离子体光谱\\纵坐标处理')\n",
    "lic_dict = {}\n",
    "for path in folder_path.iterdir():\n",
    "    if path.suffix == '.csv':\n",
    "        lic_dict[path.stem] = pd.read_csv(path.as_posix())"
   ],
   "metadata": {
    "collapsed": false,
    "ExecuteTime": {
     "end_time": "2023-08-12T07:45:10.939359300Z",
     "start_time": "2023-08-12T07:45:10.910360Z"
    }
   },
   "id": "770cf7fd703e46d8"
  },
  {
   "cell_type": "code",
   "execution_count": 37,
   "outputs": [],
   "source": [
    "exp_dict={}\n",
    "for loc , data in lic_dict.items():\n",
    "    for col in data.columns[1:]:\n",
    "        temp = data[['Unnamed: 0', f'{col}']]\n",
    "        temp.to_csv(f'F:/Cowan/Ge/exp_data/{loc}_{col}ns.csv', index=False, header=False)"
   ],
   "metadata": {
    "collapsed": false,
    "ExecuteTime": {
     "end_time": "2023-08-12T07:49:01.333565300Z",
     "start_time": "2023-08-12T07:49:01.239978700Z"
    }
   },
   "id": "980546adf58beaf7"
  },
  {
   "cell_type": "code",
   "execution_count": 40,
   "outputs": [
    {
     "name": "stdout",
     "output_type": "stream",
     "text": [
      "['0.2mm', '10ns']\n",
      "['0.2mm', '20ns']\n",
      "['0.2mm', '30ns']\n",
      "['0.2mm', '40ns']\n",
      "['0.2mm', '50ns']\n",
      "['0.2mm', '60ns']\n",
      "['0.4mm', '10ns']\n",
      "['0.4mm', '20ns']\n",
      "['0.4mm', '30ns']\n",
      "['0.4mm', '40ns']\n",
      "['0.4mm', '50ns']\n",
      "['0.4mm', '60ns']\n",
      "['0.6mm', '10ns']\n",
      "['0.6mm', '20ns']\n",
      "['0.6mm', '30ns']\n",
      "['0.6mm', '40ns']\n",
      "['0.6mm', '50ns']\n",
      "['0.6mm', '60ns']\n",
      "['0.8mm', '10ns']\n",
      "['0.8mm', '20ns']\n",
      "['0.8mm', '30ns']\n",
      "['0.8mm', '40ns']\n",
      "['0.8mm', '50ns']\n",
      "['0.8mm', '60ns']\n",
      "['0mm', '10ns']\n",
      "['0mm', '20ns']\n",
      "['0mm', '30ns']\n",
      "['0mm', '40ns']\n",
      "['0mm', '50ns']\n",
      "['0mm', '60ns']\n",
      "['1.0mm', '10ns']\n",
      "['1.0mm', '20ns']\n",
      "['1.0mm', '30ns']\n",
      "['1.0mm', '40ns']\n",
      "['1.0mm', '50ns']\n",
      "['1.0mm', '60ns']\n",
      "['1.2mm', '10ns']\n",
      "['1.2mm', '20ns']\n",
      "['1.2mm', '30ns']\n",
      "['1.2mm', '40ns']\n",
      "['1.2mm', '50ns']\n",
      "['1.4mm', '10ns']\n",
      "['1.4mm', '20ns']\n",
      "['1.4mm', '30ns']\n",
      "['1.4mm', '40ns']\n",
      "['1.6mm', '10ns']\n",
      "['1.6mm', '20ns']\n"
     ]
    }
   ],
   "source": [
    "\n"
   ],
   "metadata": {
    "collapsed": false,
    "ExecuteTime": {
     "end_time": "2023-08-12T07:53:54.028964200Z",
     "start_time": "2023-08-12T07:53:54.000575500Z"
    }
   },
   "id": "79b734d3a9efe71a"
  },
  {
   "cell_type": "code",
   "execution_count": 1,
   "outputs": [
    {
     "ename": "ModuleNotFoundError",
     "evalue": "No module named 'PySide6'",
     "output_type": "error",
     "traceback": [
      "\u001B[1;31m---------------------------------------------------------------------------\u001B[0m",
      "\u001B[1;31mModuleNotFoundError\u001B[0m                       Traceback (most recent call last)",
      "Cell \u001B[1;32mIn[1], line 1\u001B[0m\n\u001B[1;32m----> 1\u001B[0m \u001B[38;5;28;01mfrom\u001B[39;00m \u001B[38;5;21;01mPySide6\u001B[39;00m\u001B[38;5;21;01m.\u001B[39;00m\u001B[38;5;21;01mQtCore\u001B[39;00m \u001B[38;5;28;01mimport\u001B[39;00m QThread\n\u001B[0;32m      2\u001B[0m \u001B[38;5;28;01mclass\u001B[39;00m \u001B[38;5;21;01mMyThread\u001B[39;00m(QThread):\n\u001B[0;32m      3\u001B[0m     \u001B[38;5;28;01mdef\u001B[39;00m \u001B[38;5;21m__init__\u001B[39m(\u001B[38;5;28mself\u001B[39m, parent\u001B[38;5;241m=\u001B[39m\u001B[38;5;28;01mNone\u001B[39;00m):\n",
      "\u001B[1;31mModuleNotFoundError\u001B[0m: No module named 'PySide6'"
     ]
    }
   ],
   "source": [
    "\n"
   ],
   "metadata": {
    "collapsed": false,
    "ExecuteTime": {
     "end_time": "2023-08-14T09:18:13.023589400Z",
     "start_time": "2023-08-14T09:18:12.746374300Z"
    }
   },
   "id": "5ba3f3707033d157"
  },
  {
   "cell_type": "code",
   "execution_count": null,
   "outputs": [],
   "source": [],
   "metadata": {
    "collapsed": false
   },
   "id": "e7c4c3904cfc3cd4"
  }
 ],
 "metadata": {
  "kernelspec": {
   "display_name": "Python 3",
   "language": "python",
   "name": "python3"
  },
  "language_info": {
   "codemirror_mode": {
    "name": "ipython",
    "version": 2
   },
   "file_extension": ".py",
   "mimetype": "text/x-python",
   "name": "python",
   "nbconvert_exporter": "python",
   "pygments_lexer": "ipython2",
   "version": "2.7.6"
  }
 },
 "nbformat": 4,
 "nbformat_minor": 5
}
