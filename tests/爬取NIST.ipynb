{
 "cells": [
  {
   "cell_type": "code",
   "execution_count": 2,
   "id": "initial_id",
   "metadata": {
    "collapsed": true,
    "ExecuteTime": {
     "end_time": "2023-09-06T03:09:50.302066600Z",
     "start_time": "2023-09-06T03:09:50.286445500Z"
    }
   },
   "outputs": [],
   "source": [
    "import pickle\n",
    "import copy\n",
    "import pandas as pd\n",
    "from cowan.cowan.atom_info import ATOM"
   ]
  },
  {
   "cell_type": "code",
   "execution_count": 3,
   "outputs": [],
   "source": [
    "html_dict = {}\n",
    "for k, v in ATOM.items():\n",
    "    html_dict[\n",
    "        k] = f'https://physics.nist.gov/cgi-bin/ASD/ie.pl?spectra={v[0].strip(\"*\")}&submit=Retrieve+Data&units=1&format=2&order=0&at_num_out=on&sp_name_out=on&ion_charge_out=on&el_name_out=on&seq_out=on&shells_out=on&conf_out=on&level_out=on&ion_conf_out=on&e_out=0&unc_out=on&biblio=on'"
   ],
   "metadata": {
    "collapsed": false,
    "ExecuteTime": {
     "end_time": "2023-09-06T03:09:52.210235300Z",
     "start_time": "2023-09-06T03:09:52.194613500Z"
    }
   },
   "id": "d9cee0dc72acc4f2"
  },
  {
   "cell_type": "code",
   "execution_count": 4,
   "outputs": [],
   "source": [
    "# 重新爬取\n",
    "# data_dict = {}\n",
    "\n",
    "# 读入已经保存好的文件\n",
    "with open('atom_data.dat', 'rb') as f:\n",
    "    data_dict = pickle.load(f)"
   ],
   "metadata": {
    "collapsed": false,
    "ExecuteTime": {
     "end_time": "2023-09-06T03:09:53.473007500Z",
     "start_time": "2023-09-06T03:09:53.455452700Z"
    }
   },
   "id": "ef82dba8c3f98d86"
  },
  {
   "cell_type": "code",
   "execution_count": null,
   "outputs": [],
   "source": [
    "for key, html in html_dict.items():\n",
    "    if key not in data_dict:\n",
    "        data_dict[key] = pd.read_csv(html)\n",
    "        print(key)"
   ],
   "metadata": {
    "collapsed": false
   },
   "id": "25241decfffdc392"
  },
  {
   "cell_type": "code",
   "execution_count": 11,
   "outputs": [],
   "source": [
    "data_dict[15] = pd.read_csv(html_dict[15])"
   ],
   "metadata": {
    "collapsed": false,
    "ExecuteTime": {
     "end_time": "2023-09-06T02:19:15.128085200Z",
     "start_time": "2023-09-06T02:19:13.762567500Z"
    }
   },
   "id": "83805d4514f8d844"
  },
  {
   "cell_type": "code",
   "execution_count": 5,
   "outputs": [],
   "source": [
    "with open('atom_data.dat', 'wb') as f:\n",
    "    pickle.dump(data_dict, f)"
   ],
   "metadata": {
    "collapsed": false,
    "ExecuteTime": {
     "end_time": "2023-09-06T03:09:59.490070700Z",
     "start_time": "2023-09-06T03:09:59.476427800Z"
    }
   },
   "id": "315759bfb73c6551"
  },
  {
   "cell_type": "code",
   "execution_count": 78,
   "outputs": [],
   "source": [
    "with open('atom_data.dat', 'rb') as f:\n",
    "    data = pickle.load(f)\n",
    "for key, df in data.items():\n",
    "    if key <= 10:\n",
    "        temp_df = df[['At. num', 'Ion Charge', 'Ground Shells', 'Ground Config.', 'Ionization Energy (eV)']].__deepcopy__()\n",
    "        temp_df.columns = ['At. num', 'Ion Charge', 'Ground Shells (a)', 'Ground Config.', 'Ionization Energy (eV)']\n",
    "    else:\n",
    "        temp_df = df[['At. num', 'Ion Charge', 'Ground Shells (a)', 'Ground Config.', 'Ionization Energy (eV)']].__deepcopy__()\n",
    "    for i in range(temp_df.shape[0]):\n",
    "        for j in range(temp_df.shape[1]):\n",
    "            if type(temp_df.iloc[i, j]) == str:\n",
    "                temp = temp_df.iloc[i, j].strip('=')\n",
    "                temp = temp.strip('\"')\n",
    "                temp_df.iloc[i, j] = temp\n",
    "    data[key] = temp_df.dropna()"
   ],
   "metadata": {
    "collapsed": false,
    "ExecuteTime": {
     "end_time": "2023-09-06T03:34:29.845107800Z",
     "start_time": "2023-09-06T03:34:28.289602700Z"
    }
   },
   "id": "f07d6e075df4968b"
  },
  {
   "cell_type": "code",
   "execution_count": 79,
   "outputs": [],
   "source": [
    "ground_config = {}\n",
    "ion_energy_ev = {}\n",
    "for key, value in data.items():\n",
    "    temp_1_dict = {}\n",
    "    temp_2_dict = {}\n",
    "    for i in range(value.shape[0]):\n",
    "        temp1 = value['Ionization Energy (eV)'][i]\n",
    "        temp2 = value['Ground Shells (a)'][i]\n",
    "        if type(temp1) == str:\n",
    "            temp1 = eval(temp1.strip('[]'))\n",
    "        temp_1_dict[i] = temp1\n",
    "        temp_2_dict[i] = temp2\n",
    "    ion_energy_ev[key] = temp_1_dict\n",
    "    ground_config[key] = temp_2_dict"
   ],
   "metadata": {
    "collapsed": false,
    "ExecuteTime": {
     "end_time": "2023-09-06T03:34:29.907603100Z",
     "start_time": "2023-09-06T03:34:29.860728900Z"
    }
   },
   "id": "4204a77639ec03d7"
  },
  {
   "cell_type": "code",
   "execution_count": 80,
   "outputs": [],
   "source": [
    "new_dict = {}\n",
    "for key, value in ground_config.items():\n",
    "    temp_dict = copy.deepcopy(value)  # 每一个原子\n",
    "    for ion, config in temp_dict.items():\n",
    "        temp_str = copy.deepcopy(config)  # 每一个离子的组态\n",
    "\n",
    "        if '[' in temp_str:\n",
    "            if '[Rn]' in temp_str:  # 86\n",
    "                temp_str = temp_str.replace('[Rn]', f'{ground_config[86][0]}')\n",
    "            if '[Hg]' in temp_str:  # 80\n",
    "                temp_str = temp_str.replace('[Hg]', f'{ground_config[80][0]}')\n",
    "            if '[Xe]' in temp_str:  # 54\n",
    "                temp_str = temp_str.replace('[Xe]', f'{ground_config[54][0]}')\n",
    "            if '[Cd]' in temp_str:  # 48\n",
    "                temp_str = temp_str.replace('[Cd]', f'{ground_config[48][0]}')\n",
    "            if '[Kr]' in temp_str:  # 36\n",
    "                temp_str = temp_str.replace('[Kr]', f'{ground_config[36][0]}')\n",
    "            if '[Ar]' in temp_str:  # 18\n",
    "                temp_str = temp_str.replace('[Ar]', f'{ground_config[18][0]}')\n",
    "            if '[Ne]' in temp_str:  # 10\n",
    "                temp_str = temp_str.replace('[Ne]', f'{ground_config[10][0]}')\n",
    "\n",
    "                \n",
    "        temp_str = temp_str.split('.')\n",
    "        for i, name in enumerate(temp_str):\n",
    "            if len(name) == 3:\n",
    "                temp = list(name)\n",
    "                temp.insert(2, '0')\n",
    "                temp_str[i] = ''.join(temp)\n",
    "            elif len(name) == 2:\n",
    "                temp = list(name)\n",
    "                temp.insert(2, '01')\n",
    "                temp_str[i] = ''.join(temp)\n",
    "        temp_dict[ion] = ' '.join(temp_str)\n",
    "    new_dict[key] = temp_dict"
   ],
   "metadata": {
    "collapsed": false,
    "ExecuteTime": {
     "end_time": "2023-09-06T03:34:29.938852400Z",
     "start_time": "2023-09-06T03:34:29.907603100Z"
    }
   },
   "id": "6f24e29fdfdd6fce"
  },
  {
   "cell_type": "code",
   "execution_count": 81,
   "outputs": [],
   "source": [
    "for  i in range(1, 101):\n",
    "    temp_dict = new_dict[i]\n",
    "    for k, v in temp_dict.items():\n",
    "        if '[' in v:\n",
    "            print(i, k, v)"
   ],
   "metadata": {
    "collapsed": false,
    "ExecuteTime": {
     "end_time": "2023-09-06T03:34:30.567139500Z",
     "start_time": "2023-09-06T03:34:30.520264Z"
    }
   },
   "id": "d1fb5ade8b99740f"
  },
  {
   "cell_type": "code",
   "execution_count": 82,
   "outputs": [],
   "source": [
    "ions_info = {'config':new_dict, 'energy': ion_energy_ev}"
   ],
   "metadata": {
    "collapsed": false,
    "ExecuteTime": {
     "end_time": "2023-09-06T03:34:30.728176100Z",
     "start_time": "2023-09-06T03:34:30.712549300Z"
    }
   },
   "id": "732a0b0febcecd66"
  },
  {
   "cell_type": "code",
   "execution_count": 87,
   "outputs": [
    {
     "data": {
      "text/plain": "{0: '1s01'}"
     },
     "execution_count": 87,
     "metadata": {},
     "output_type": "execute_result"
    }
   ],
   "source": [
    "ions_info['config'][1]"
   ],
   "metadata": {
    "collapsed": false,
    "ExecuteTime": {
     "end_time": "2023-09-06T07:20:14.060478700Z",
     "start_time": "2023-09-06T07:20:14.042845200Z"
    }
   },
   "id": "5751372c2ea6ae8f"
  },
  {
   "cell_type": "code",
   "execution_count": 84,
   "outputs": [],
   "source": [
    "import json\n",
    "json.dump(ions_info, open('ions_info.json', 'w'))"
   ],
   "metadata": {
    "collapsed": false,
    "ExecuteTime": {
     "end_time": "2023-09-06T07:02:31.726009800Z",
     "start_time": "2023-09-06T07:02:31.694756500Z"
    }
   },
   "id": "8abebd43117076b7"
  },
  {
   "cell_type": "code",
   "execution_count": 86,
   "outputs": [
    {
     "ename": "NameError",
     "evalue": "name '__file__' is not defined",
     "output_type": "error",
     "traceback": [
      "\u001B[1;31m---------------------------------------------------------------------------\u001B[0m",
      "\u001B[1;31mNameError\u001B[0m                                 Traceback (most recent call last)",
      "Cell \u001B[1;32mIn[86], line 3\u001B[0m\n\u001B[0;32m      1\u001B[0m \u001B[38;5;28;01mfrom\u001B[39;00m \u001B[38;5;21;01mpathlib\u001B[39;00m \u001B[38;5;28;01mimport\u001B[39;00m Path\n\u001B[1;32m----> 3\u001B[0m path \u001B[38;5;241m=\u001B[39m Path(\u001B[38;5;18;43m__file__\u001B[39;49m)\n",
      "\u001B[1;31mNameError\u001B[0m: name '__file__' is not defined"
     ]
    }
   ],
   "source": [
    "from pathlib import Path\n",
    "\n",
    "path = Path(__file__)"
   ],
   "metadata": {
    "collapsed": false,
    "ExecuteTime": {
     "end_time": "2023-09-06T07:12:17.259796500Z",
     "start_time": "2023-09-06T07:12:17.240210700Z"
    }
   },
   "id": "74f38b5de25c4988"
  },
  {
   "cell_type": "code",
   "execution_count": null,
   "outputs": [],
   "source": [],
   "metadata": {
    "collapsed": false
   },
   "id": "584e381fd2372af8"
  }
 ],
 "metadata": {
  "kernelspec": {
   "display_name": "Python 3",
   "language": "python",
   "name": "python3"
  },
  "language_info": {
   "codemirror_mode": {
    "name": "ipython",
    "version": 2
   },
   "file_extension": ".py",
   "mimetype": "text/x-python",
   "name": "python",
   "nbconvert_exporter": "python",
   "pygments_lexer": "ipython2",
   "version": "2.7.6"
  }
 },
 "nbformat": 4,
 "nbformat_minor": 5
}
